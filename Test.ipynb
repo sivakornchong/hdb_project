{
 "cells": [
  {
   "cell_type": "code",
   "execution_count": 18,
   "metadata": {},
   "outputs": [],
   "source": [
    "# Import Python Libraries\n",
    "\n",
    "# For HTML parsing\n",
    "from urllib.request import Request, urlopen\n",
    "from bs4 import BeautifulSoup as soup\n",
    "\n",
    "# For website connections\n",
    "import requests \n",
    "\n",
    "# To prevent overwhelming the server between connections\n",
    "from time import sleep \n",
    "\n",
    "# Display the progress bar\n",
    "from tqdm.notebook import tqdm\n",
    "\n",
    "# For data wrangling\n",
    "import numpy as np\n",
    "import pandas as pd\n",
    "import re\n",
    "\n",
    "pd.set_option('display.max_columns', 500)\n",
    "pd.set_option('display.width', 1000)\n",
    "\n",
    "# For creating plots\n",
    "import matplotlib.pyplot as plt\n",
    "import plotly.graph_objects as go"
   ]
  },
  {
   "cell_type": "code",
   "execution_count": 19,
   "metadata": {},
   "outputs": [],
   "source": [
    "#Pull request from 99.co website\n",
    "from urllib.request import Request, urlopen\n",
    "from bs4 import BeautifulSoup as soup\n",
    "url = 'https://www.99.co/singapore/sale?query_ids=htbukit_panjang&query_limit=radius&query_type=hdb_town&page_num=2'\n",
    "req = Request(url , headers={'User-Agent': 'Mozilla/5.0'})\n",
    "\n",
    "webpage = urlopen(req).read()\n",
    "page_soup = soup(webpage, \"html.parser\")"
   ]
  },
  {
   "cell_type": "code",
   "execution_count": 20,
   "metadata": {},
   "outputs": [],
   "source": [
    "def get_page(page, town = 'bukit_panjang'):\n",
    "    #default_town is 'bukit_panjang'\n",
    "    url = f'https://www.99.co/singapore/sale?query_ids=ht{town}&query_limit=radius&query_type=hdb_town&page_num={page}'\n",
    "    #url = 'https://www.99.co/singapore/sale?query_ids=htbukit_panjang&query_limit=radius&query_type=hdb_town&page_num=2'\n",
    "    print(url)\n",
    "    req = Request(url , headers={'User-Agent': 'Mozilla/5.0'})\n",
    "    webpage = urlopen(req).read()\n",
    "    page_soup = soup(webpage, \"html.parser\")\n",
    "        \n",
    "    return page_soup"
   ]
  },
  {
   "cell_type": "code",
   "execution_count": 21,
   "metadata": {},
   "outputs": [],
   "source": [
    "#data processing for each page\n",
    "def data_process(page_soup):\n",
    "    prices = page_soup.findAll(\"p\",\"_2sIc2 JlU_W _2rhE-\")\n",
    "    rooms = page_soup.findAll(\"p\",'dniCg _1LPAx _2rhE- _1c-pJ')\n",
    "    i = 0\n",
    "    lol = []\n",
    "    for price in prices:\n",
    "        compiler = []\n",
    "        compiler.append(price.getText())\n",
    "        compiler.append(rooms[i].getText())\n",
    "        compiler.append(rooms[i+1].getText())\n",
    "        lol.append(compiler)\n",
    "        i = i+2\n",
    "    df = pd.DataFrame(lol, columns=[\"prices\",\"type\",\"year\"])\n",
    "    return df\n"
   ]
  },
  {
   "cell_type": "code",
   "execution_count": 22,
   "metadata": {},
   "outputs": [
    {
     "name": "stdout",
     "output_type": "stream",
     "text": [
      "https://www.99.co/singapore/sale?query_ids=htbukit_panjang&query_limit=radius&query_type=hdb_town&page_num=1\n",
      "35 out of 679 extracted\n",
      "https://www.99.co/singapore/sale?query_ids=htbukit_panjang&query_limit=radius&query_type=hdb_town&page_num=2\n",
      "70 out of 679 extracted\n",
      "https://www.99.co/singapore/sale?query_ids=htbukit_panjang&query_limit=radius&query_type=hdb_town&page_num=3\n",
      "105 out of 679 extracted\n",
      "https://www.99.co/singapore/sale?query_ids=htbukit_panjang&query_limit=radius&query_type=hdb_town&page_num=4\n",
      "140 out of 679 extracted\n",
      "https://www.99.co/singapore/sale?query_ids=htbukit_panjang&query_limit=radius&query_type=hdb_town&page_num=5\n",
      "175 out of 679 extracted\n",
      "https://www.99.co/singapore/sale?query_ids=htbukit_panjang&query_limit=radius&query_type=hdb_town&page_num=6\n",
      "210 out of 679 extracted\n",
      "https://www.99.co/singapore/sale?query_ids=htbukit_panjang&query_limit=radius&query_type=hdb_town&page_num=7\n",
      "245 out of 679 extracted\n",
      "https://www.99.co/singapore/sale?query_ids=htbukit_panjang&query_limit=radius&query_type=hdb_town&page_num=8\n",
      "280 out of 679 extracted\n",
      "https://www.99.co/singapore/sale?query_ids=htbukit_panjang&query_limit=radius&query_type=hdb_town&page_num=9\n",
      "315 out of 679 extracted\n",
      "https://www.99.co/singapore/sale?query_ids=htbukit_panjang&query_limit=radius&query_type=hdb_town&page_num=10\n",
      "350 out of 679 extracted\n",
      "https://www.99.co/singapore/sale?query_ids=htbukit_panjang&query_limit=radius&query_type=hdb_town&page_num=11\n",
      "385 out of 679 extracted\n",
      "https://www.99.co/singapore/sale?query_ids=htbukit_panjang&query_limit=radius&query_type=hdb_town&page_num=12\n",
      "420 out of 679 extracted\n",
      "https://www.99.co/singapore/sale?query_ids=htbukit_panjang&query_limit=radius&query_type=hdb_town&page_num=13\n",
      "455 out of 679 extracted\n",
      "https://www.99.co/singapore/sale?query_ids=htbukit_panjang&query_limit=radius&query_type=hdb_town&page_num=14\n",
      "490 out of 679 extracted\n",
      "https://www.99.co/singapore/sale?query_ids=htbukit_panjang&query_limit=radius&query_type=hdb_town&page_num=15\n",
      "490 out of 679 extracted\n",
      "https://www.99.co/singapore/sale?query_ids=htbukit_panjang&query_limit=radius&query_type=hdb_town&page_num=16\n",
      "525 out of 679 extracted\n",
      "https://www.99.co/singapore/sale?query_ids=htbukit_panjang&query_limit=radius&query_type=hdb_town&page_num=17\n",
      "560 out of 679 extracted\n",
      "https://www.99.co/singapore/sale?query_ids=htbukit_panjang&query_limit=radius&query_type=hdb_town&page_num=18\n",
      "595 out of 679 extracted\n",
      "https://www.99.co/singapore/sale?query_ids=htbukit_panjang&query_limit=radius&query_type=hdb_town&page_num=19\n",
      "630 out of 679 extracted\n"
     ]
    }
   ],
   "source": [
    "#Main execution\n",
    "df = pd.DataFrame()\n",
    "max_entry = page_soup.find(\"p\",\"dniCg GbDXT _2rhE-\").getText()\n",
    "max_entry = int(re.findall(r'\\d+', max_entry)[0])\n",
    "last_entry = 0 \n",
    "\n",
    "for i in range(max_entry//35):\n",
    "    page_soup = get_page(i+1)\n",
    "    page_list = data_process(page_soup)\n",
    "    df=df.append(page_list, ignore_index=True)\n",
    "    last_entry = last_entry+page_list.shape[0]\n",
    "    print(f'{last_entry} out of {max_entry} extracted')\n",
    "    if last_entry>max_entry:\n",
    "        print('exceed')\n",
    "        break\n",
    "\n",
    "#df cleaning"
   ]
  },
  {
   "cell_type": "code",
   "execution_count": 23,
   "metadata": {},
   "outputs": [
    {
     "data": {
      "text/html": [
       "<div>\n",
       "<style scoped>\n",
       "    .dataframe tbody tr th:only-of-type {\n",
       "        vertical-align: middle;\n",
       "    }\n",
       "\n",
       "    .dataframe tbody tr th {\n",
       "        vertical-align: top;\n",
       "    }\n",
       "\n",
       "    .dataframe thead th {\n",
       "        text-align: right;\n",
       "    }\n",
       "</style>\n",
       "<table border=\"1\" class=\"dataframe\">\n",
       "  <thead>\n",
       "    <tr style=\"text-align: right;\">\n",
       "      <th></th>\n",
       "      <th>prices</th>\n",
       "      <th>type</th>\n",
       "      <th>year</th>\n",
       "    </tr>\n",
       "  </thead>\n",
       "  <tbody>\n",
       "    <tr>\n",
       "      <th>0</th>\n",
       "      <td>$800,000</td>\n",
       "      <td>HDB (EA)</td>\n",
       "      <td>1989</td>\n",
       "    </tr>\n",
       "    <tr>\n",
       "      <th>1</th>\n",
       "      <td>$4,500,000</td>\n",
       "      <td>Bungalow</td>\n",
       "      <td>1998 · 99 years</td>\n",
       "    </tr>\n",
       "    <tr>\n",
       "      <th>2</th>\n",
       "      <td>$480,000</td>\n",
       "      <td>HDB (3RM)</td>\n",
       "      <td>2002 · 99 years</td>\n",
       "    </tr>\n",
       "    <tr>\n",
       "      <th>3</th>\n",
       "      <td>$3,900,000</td>\n",
       "      <td>Terraced House</td>\n",
       "      <td>999 years</td>\n",
       "    </tr>\n",
       "    <tr>\n",
       "      <th>4</th>\n",
       "      <td>$599,999</td>\n",
       "      <td>HDB (5I)</td>\n",
       "      <td>1998</td>\n",
       "    </tr>\n",
       "  </tbody>\n",
       "</table>\n",
       "</div>"
      ],
      "text/plain": [
       "       prices            type             year\n",
       "0    $800,000        HDB (EA)             1989\n",
       "1  $4,500,000        Bungalow  1998 · 99 years\n",
       "2    $480,000       HDB (3RM)  2002 · 99 years\n",
       "3  $3,900,000  Terraced House        999 years\n",
       "4    $599,999        HDB (5I)             1998"
      ]
     },
     "execution_count": 23,
     "metadata": {},
     "output_type": "execute_result"
    }
   ],
   "source": [
    "df.head()\n"
   ]
  },
  {
   "cell_type": "code",
   "execution_count": 24,
   "metadata": {},
   "outputs": [
    {
     "name": "stdout",
     "output_type": "stream",
     "text": [
      "<class 'pandas.core.frame.DataFrame'>\n",
      "RangeIndex: 630 entries, 0 to 629\n",
      "Data columns (total 3 columns):\n",
      " #   Column  Non-Null Count  Dtype \n",
      "---  ------  --------------  ----- \n",
      " 0   prices  630 non-null    object\n",
      " 1   type    630 non-null    object\n",
      " 2   year    630 non-null    object\n",
      "dtypes: object(3)\n",
      "memory usage: 14.9+ KB\n"
     ]
    }
   ],
   "source": [
    "df.info()\n"
   ]
  },
  {
   "cell_type": "code",
   "execution_count": 83,
   "metadata": {},
   "outputs": [
    {
     "data": {
      "text/html": [
       "<div>\n",
       "<style scoped>\n",
       "    .dataframe tbody tr th:only-of-type {\n",
       "        vertical-align: middle;\n",
       "    }\n",
       "\n",
       "    .dataframe tbody tr th {\n",
       "        vertical-align: top;\n",
       "    }\n",
       "\n",
       "    .dataframe thead th {\n",
       "        text-align: right;\n",
       "    }\n",
       "</style>\n",
       "<table border=\"1\" class=\"dataframe\">\n",
       "  <thead>\n",
       "    <tr style=\"text-align: right;\">\n",
       "      <th></th>\n",
       "      <th>prices</th>\n",
       "      <th>type</th>\n",
       "      <th>year</th>\n",
       "    </tr>\n",
       "  </thead>\n",
       "  <tbody>\n",
       "    <tr>\n",
       "      <th>0</th>\n",
       "      <td>$490,000</td>\n",
       "      <td>HDB (4A)</td>\n",
       "      <td>2015 · 99 years</td>\n",
       "    </tr>\n",
       "    <tr>\n",
       "      <th>1</th>\n",
       "      <td>$660,000</td>\n",
       "      <td>HDB (5I)</td>\n",
       "      <td>1998</td>\n",
       "    </tr>\n",
       "    <tr>\n",
       "      <th>2</th>\n",
       "      <td>$425,000</td>\n",
       "      <td>HDB (4S)</td>\n",
       "      <td>1988</td>\n",
       "    </tr>\n",
       "    <tr>\n",
       "      <th>3</th>\n",
       "      <td>$660,000</td>\n",
       "      <td>HDB (5A)</td>\n",
       "      <td>2016 · 99 years</td>\n",
       "    </tr>\n",
       "    <tr>\n",
       "      <th>4</th>\n",
       "      <td>$838,000</td>\n",
       "      <td>HDB (EA)</td>\n",
       "      <td>2001</td>\n",
       "    </tr>\n",
       "  </tbody>\n",
       "</table>\n",
       "</div>"
      ],
      "text/plain": [
       "     prices      type             year\n",
       "0  $490,000  HDB (4A)  2015 · 99 years\n",
       "1  $660,000  HDB (5I)             1998\n",
       "2  $425,000  HDB (4S)             1988\n",
       "3  $660,000  HDB (5A)  2016 · 99 years\n",
       "4  $838,000  HDB (EA)             2001"
      ]
     },
     "execution_count": 83,
     "metadata": {},
     "output_type": "execute_result"
    }
   ],
   "source": []
  },
  {
   "cell_type": "code",
   "execution_count": null,
   "metadata": {},
   "outputs": [],
   "source": []
  }
 ],
 "metadata": {
  "kernelspec": {
   "display_name": "Python 3",
   "language": "python",
   "name": "python3"
  },
  "language_info": {
   "codemirror_mode": {
    "name": "ipython",
    "version": 3
   },
   "file_extension": ".py",
   "mimetype": "text/x-python",
   "name": "python",
   "nbconvert_exporter": "python",
   "pygments_lexer": "ipython3",
   "version": "3.8.10"
  }
 },
 "nbformat": 4,
 "nbformat_minor": 4
}
