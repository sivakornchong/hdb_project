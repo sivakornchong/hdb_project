{
 "cells": [
  {
   "cell_type": "markdown",
   "id": "059568d6",
   "metadata": {},
   "source": [
    "## Machine Learning Notebook"
   ]
  },
  {
   "cell_type": "markdown",
   "id": "3024af81",
   "metadata": {},
   "source": [
    "We will use this notebook to do a quick data exploration and model selection for our pipeline."
   ]
  },
  {
   "cell_type": "markdown",
   "id": "55aeadae",
   "metadata": {},
   "source": [
    "## Part 1: Data Retrieval\n",
    "\n",
    "In the model training pipeline, `src/connect_api.py` and `src/get_features.py` have been used to retrieve the training data.\n",
    "1. Query for transaction of the house via Singapore government's official data.gov.sg: https://guide.data.gov.sg/developers/api-v2 \n",
    "2. Query for location of the house via Onemap API: https://www.onemap.gov.sg/apidocs/\n",
    "3. Utilize geopy to calculate distance to the nearest train (MRT) station.\n",
    "4. Relevant have then been filtered out accordingly.\n",
    "\n",
    "In the code section below, we extract out `processed` data for our model work. "
   ]
  },
  {
   "cell_type": "code",
   "execution_count": 64,
   "id": "31f525ea-03e2-4ff2-85bb-c688d910bf27",
   "metadata": {},
   "outputs": [],
   "source": [
    "import matplotlib.pyplot as plt\n",
    "import pandas as pd\n",
    "from sklearn.model_selection import train_test_split\n",
    "import numpy as np\n",
    "import pandas as pd\n",
    "import re\n",
    "\n",
    "# For model training (classification)\n",
    "from sklearn.model_selection import cross_val_score, cross_validate\n",
    "from sklearn.pipeline import make_pipeline\n",
    "from sklearn.preprocessing import StandardScaler\n",
    "from sklearn.compose import make_column_transformer\n",
    "from sklearn.preprocessing import StandardScaler, OneHotEncoder\n",
    "\n",
    "# For regression\n",
    "from sklearn.dummy import DummyRegressor\n",
    "from sklearn.neighbors import KNeighborsRegressor\n",
    "from sklearn.model_selection import RandomizedSearchCV\n",
    "from sklearn.linear_model import Ridge\n",
    "from sklearn.ensemble import RandomForestRegressor, GradientBoostingRegressor\n",
    "from sklearn.metrics import make_scorer, mean_squared_error, mean_absolute_error\n",
    "import xgboost as xgb\n",
    "from xgboost import plot_importance\n"
   ]
  },
  {
   "cell_type": "code",
   "execution_count": 65,
   "id": "cd384330-01d7-4dac-ad16-0ed7dc7d2831",
   "metadata": {},
   "outputs": [
    {
     "data": {
      "text/plain": [
       "Index(['distance_mrt', 'town', 'area', 'flat_num', 'age_transation',\n",
       "       'lease_commence', 'transaction_yr', 'transaction', 'storey_height',\n",
       "       'resale_price', 'resale_price_adj', 'Postal', 'Location'],\n",
       "      dtype='object')"
      ]
     },
     "execution_count": 65,
     "metadata": {},
     "output_type": "execute_result"
    }
   ],
   "source": [
    "df = pd.read_json('data/2024_pipe/data_features.json', lines= True)\n",
    "df = df.sample(frac=1)  # To use all data, put frac = 1\n",
    "df.columns"
   ]
  },
  {
   "cell_type": "code",
   "execution_count": 66,
   "id": "ad822485-0c02-4d17-a81e-ca1a9e5c0fcc",
   "metadata": {},
   "outputs": [
    {
     "name": "stdout",
     "output_type": "stream",
     "text": [
      "169575 filtered out of: 169584\n"
     ]
    }
   ],
   "source": [
    "# Data preprocessing to select out the relevant columns\n",
    "\n",
    "columns = ['distance_mrt','age_transation','transaction_yr','Postal','storey_height', 'resale_price_adj','town','flat_num']\n",
    "\n",
    "df_chosen = df[columns].copy()\n",
    "df_chosen = df_chosen[df_chosen['Postal']!='NIL']  #remove the items with no postal code#\n",
    "df_chosen['Postal'] = df_chosen['Postal'].astype(int)  #convert to int\n",
    "\n",
    "print(df_chosen.shape[0], 'filtered out of:', df.shape[0])"
   ]
  },
  {
   "cell_type": "code",
   "execution_count": 67,
   "id": "49128639-9a8d-4252-b090-d5d3edac32ed",
   "metadata": {},
   "outputs": [],
   "source": [
    "# Create train and test sets\n",
    "model_data = df_chosen.copy()\n",
    "\n",
    "X = model_data.drop('resale_price_adj', axis=1)\n",
    "y = model_data['resale_price_adj']\n",
    "\n",
    "X_train, X_test, y_train, y_test = train_test_split(X, y, test_size=0.2, random_state=573)"
   ]
  },
  {
   "cell_type": "code",
   "execution_count": 68,
   "id": "f6cf2fc7-d898-44ec-8310-b9c4b852125c",
   "metadata": {},
   "outputs": [
    {
     "data": {
      "text/html": [
       "<div>\n",
       "<style scoped>\n",
       "    .dataframe tbody tr th:only-of-type {\n",
       "        vertical-align: middle;\n",
       "    }\n",
       "\n",
       "    .dataframe tbody tr th {\n",
       "        vertical-align: top;\n",
       "    }\n",
       "\n",
       "    .dataframe thead th {\n",
       "        text-align: right;\n",
       "    }\n",
       "</style>\n",
       "<table border=\"1\" class=\"dataframe\">\n",
       "  <thead>\n",
       "    <tr style=\"text-align: right;\">\n",
       "      <th></th>\n",
       "      <th>distance_mrt</th>\n",
       "      <th>age_transation</th>\n",
       "      <th>transaction_yr</th>\n",
       "      <th>Postal</th>\n",
       "      <th>storey_height</th>\n",
       "      <th>town</th>\n",
       "      <th>flat_num</th>\n",
       "    </tr>\n",
       "  </thead>\n",
       "  <tbody>\n",
       "    <tr>\n",
       "      <th>111288</th>\n",
       "      <td>1.249196</td>\n",
       "      <td>7</td>\n",
       "      <td>2021</td>\n",
       "      <td>523520</td>\n",
       "      <td>3</td>\n",
       "      <td>TAMPINES</td>\n",
       "      <td>3 ROOM</td>\n",
       "    </tr>\n",
       "    <tr>\n",
       "      <th>142458</th>\n",
       "      <td>0.750880</td>\n",
       "      <td>10</td>\n",
       "      <td>2022</td>\n",
       "      <td>132028</td>\n",
       "      <td>2</td>\n",
       "      <td>QUEENSTOWN</td>\n",
       "      <td>3 ROOM</td>\n",
       "    </tr>\n",
       "    <tr>\n",
       "      <th>65853</th>\n",
       "      <td>1.407960</td>\n",
       "      <td>39</td>\n",
       "      <td>2020</td>\n",
       "      <td>730206</td>\n",
       "      <td>3</td>\n",
       "      <td>WOODLANDS</td>\n",
       "      <td>3 ROOM</td>\n",
       "    </tr>\n",
       "    <tr>\n",
       "      <th>162028</th>\n",
       "      <td>1.233430</td>\n",
       "      <td>5</td>\n",
       "      <td>2023</td>\n",
       "      <td>822233</td>\n",
       "      <td>6</td>\n",
       "      <td>PUNGGOL</td>\n",
       "      <td>5 ROOM</td>\n",
       "    </tr>\n",
       "    <tr>\n",
       "      <th>93934</th>\n",
       "      <td>0.331070</td>\n",
       "      <td>19</td>\n",
       "      <td>2021</td>\n",
       "      <td>211672</td>\n",
       "      <td>1</td>\n",
       "      <td>CENTRAL AREA</td>\n",
       "      <td>5 ROOM</td>\n",
       "    </tr>\n",
       "  </tbody>\n",
       "</table>\n",
       "</div>"
      ],
      "text/plain": [
       "        distance_mrt  age_transation  transaction_yr  Postal  storey_height  \\\n",
       "111288      1.249196               7            2021  523520              3   \n",
       "142458      0.750880              10            2022  132028              2   \n",
       "65853       1.407960              39            2020  730206              3   \n",
       "162028      1.233430               5            2023  822233              6   \n",
       "93934       0.331070              19            2021  211672              1   \n",
       "\n",
       "                town flat_num  \n",
       "111288      TAMPINES   3 ROOM  \n",
       "142458    QUEENSTOWN   3 ROOM  \n",
       "65853      WOODLANDS   3 ROOM  \n",
       "162028       PUNGGOL   5 ROOM  \n",
       "93934   CENTRAL AREA   5 ROOM  "
      ]
     },
     "execution_count": 68,
     "metadata": {},
     "output_type": "execute_result"
    }
   ],
   "source": [
    "X_train.head()"
   ]
  },
  {
   "cell_type": "markdown",
   "id": "a953306b",
   "metadata": {},
   "source": [
    "As you can see, we have numeric features that needs to be normalized before model training. We also have categorical features that need to go through one-hot encoding before model optimization."
   ]
  },
  {
   "cell_type": "markdown",
   "id": "441cf267",
   "metadata": {},
   "source": [
    "## Part 2: Model Training"
   ]
  },
  {
   "cell_type": "code",
   "execution_count": 69,
   "id": "f0f71b0a-b2eb-4450-919f-79f9f3f21545",
   "metadata": {},
   "outputs": [],
   "source": [
    "# Create training/ testing pipelines\n",
    "numeric_features = ['distance_mrt', 'age_transation',\n",
    "       'transaction_yr', 'Postal',\n",
    "       'storey_height']\n",
    "categorical_features = ['town', 'flat_num']\n",
    "\n",
    "numeric_transformer = StandardScaler()\n",
    "categorical_transformer = make_pipeline(\n",
    "    OneHotEncoder(handle_unknown = \"ignore\", sparse_output = False)\n",
    ")\n",
    "\n",
    "preprocess = make_column_transformer(\n",
    "    (numeric_transformer, numeric_features),  \n",
    "    (categorical_transformer, categorical_features)\n",
    ")"
   ]
  },
  {
   "cell_type": "code",
   "execution_count": 70,
   "id": "c22efc99-b7de-455b-99e2-051d09aeaf0b",
   "metadata": {},
   "outputs": [],
   "source": [
    "# Credit for function adapted from UBC's MDS course: DSCI571\n",
    "\n",
    "def mean_std_cross_val_scores(model, X_train, y_train, **kwargs):\n",
    "    \"\"\"\n",
    "    Returns mean and std of cross validation\n",
    "\n",
    "    Parameters\n",
    "    ----------\n",
    "    model :\n",
    "        scikit-learn model\n",
    "    X_train : numpy array or pandas DataFrame\n",
    "        X in the training data\n",
    "    y_train :\n",
    "        y in the training data\n",
    "\n",
    "    Returns\n",
    "    ----------\n",
    "        pandas Series with mean scores from cross_validation\n",
    "    \"\"\"\n",
    "\n",
    "    scores = cross_validate(model, X_train, y_train, **kwargs)\n",
    "\n",
    "    mean_scores = pd.DataFrame(scores).mean()\n",
    "    std_scores = pd.DataFrame(scores).std()\n",
    "    out_col = []\n",
    "\n",
    "    for i in range(len(mean_scores)):\n",
    "        out_col.append((f\"%0.3f (+/- %0.3f)\" % (mean_scores.iloc[i], std_scores.iloc[i])))\n",
    "\n",
    "    print(out_col)\n",
    "    return pd.Series(data=out_col, index=mean_scores.index)"
   ]
  },
  {
   "cell_type": "code",
   "execution_count": 71,
   "id": "b14c9fa8-1d15-4a22-85fc-3aca0f23405f",
   "metadata": {},
   "outputs": [
    {
     "name": "stdout",
     "output_type": "stream",
     "text": [
      "['0.077 (+/- 0.034)', '0.017 (+/- 0.011)', '-0.000 (+/- 0.000)', '0.000 (+/- 0.000)', '-113495.843 (+/- 270.251)', '-113495.490 (+/- 61.269)']\n",
      "Done with Dummy Regressor\n",
      "['0.065 (+/- 0.002)', '8.752 (+/- 0.022)', '0.937 (+/- 0.002)', '0.959 (+/- 0.000)', '-25137.780 (+/- 252.463)', '-20177.452 (+/- 67.989)']\n",
      "Done with KNN Regressor\n",
      "['0.105 (+/- 0.007)', '0.015 (+/- 0.002)', '0.836 (+/- 0.003)', '0.836 (+/- 0.001)', '-44616.154 (+/- 230.941)', '-44597.761 (+/- 72.433)']\n",
      "Done with Ridge\n",
      "['6.291 (+/- 0.029)', '0.091 (+/- 0.002)', '0.960 (+/- 0.001)', '0.991 (+/- 0.000)', '-20484.158 (+/- 111.277)', '-9228.692 (+/- 26.011)']\n",
      "Done with RFR\n",
      "['16.726 (+/- 0.087)', '0.056 (+/- 0.006)', '0.886 (+/- 0.002)', '0.887 (+/- 0.001)', '-35126.667 (+/- 320.957)', '-35003.213 (+/- 98.591)']\n",
      "Done with GB\n",
      "['1.206 (+/- 0.019)', '0.071 (+/- 0.001)', '0.952 (+/- 0.001)', '0.958 (+/- 0.001)', '-22847.273 (+/- 280.014)', '-21762.174 (+/- 121.537)']\n",
      "Done with XGBoost\n"
     ]
    },
    {
     "data": {
      "text/html": [
       "<div>\n",
       "<style scoped>\n",
       "    .dataframe tbody tr th:only-of-type {\n",
       "        vertical-align: middle;\n",
       "    }\n",
       "\n",
       "    .dataframe tbody tr th {\n",
       "        vertical-align: top;\n",
       "    }\n",
       "\n",
       "    .dataframe thead th {\n",
       "        text-align: right;\n",
       "    }\n",
       "</style>\n",
       "<table border=\"1\" class=\"dataframe\">\n",
       "  <thead>\n",
       "    <tr style=\"text-align: right;\">\n",
       "      <th></th>\n",
       "      <th>fit_time</th>\n",
       "      <th>score_time</th>\n",
       "      <th>test_r2</th>\n",
       "      <th>train_r2</th>\n",
       "      <th>test_neg_mean_absolute_error</th>\n",
       "      <th>train_neg_mean_absolute_error</th>\n",
       "      <th>test_adj_r2</th>\n",
       "    </tr>\n",
       "  </thead>\n",
       "  <tbody>\n",
       "    <tr>\n",
       "      <th>Dummy Regressor</th>\n",
       "      <td>0.077 (+/- 0.034)</td>\n",
       "      <td>0.017 (+/- 0.011)</td>\n",
       "      <td>-0.000 (+/- 0.000)</td>\n",
       "      <td>0.000 (+/- 0.000)</td>\n",
       "      <td>-113495.843 (+/- 270.251)</td>\n",
       "      <td>-113495.490 (+/- 61.269)</td>\n",
       "      <td>-0.000280</td>\n",
       "    </tr>\n",
       "    <tr>\n",
       "      <th>KNN Regressor</th>\n",
       "      <td>0.065 (+/- 0.002)</td>\n",
       "      <td>8.752 (+/- 0.022)</td>\n",
       "      <td>0.937 (+/- 0.002)</td>\n",
       "      <td>0.959 (+/- 0.000)</td>\n",
       "      <td>-25137.780 (+/- 252.463)</td>\n",
       "      <td>-20177.452 (+/- 67.989)</td>\n",
       "      <td>0.936982</td>\n",
       "    </tr>\n",
       "    <tr>\n",
       "      <th>Ridge</th>\n",
       "      <td>0.105 (+/- 0.007)</td>\n",
       "      <td>0.015 (+/- 0.002)</td>\n",
       "      <td>0.836 (+/- 0.003)</td>\n",
       "      <td>0.836 (+/- 0.001)</td>\n",
       "      <td>-44616.154 (+/- 230.941)</td>\n",
       "      <td>-44597.761 (+/- 72.433)</td>\n",
       "      <td>0.835954</td>\n",
       "    </tr>\n",
       "    <tr>\n",
       "      <th>RFR</th>\n",
       "      <td>6.291 (+/- 0.029)</td>\n",
       "      <td>0.091 (+/- 0.002)</td>\n",
       "      <td>0.960 (+/- 0.001)</td>\n",
       "      <td>0.991 (+/- 0.000)</td>\n",
       "      <td>-20484.158 (+/- 111.277)</td>\n",
       "      <td>-9228.692 (+/- 26.011)</td>\n",
       "      <td>0.959989</td>\n",
       "    </tr>\n",
       "    <tr>\n",
       "      <th>GB</th>\n",
       "      <td>16.726 (+/- 0.087)</td>\n",
       "      <td>0.056 (+/- 0.006)</td>\n",
       "      <td>0.886 (+/- 0.002)</td>\n",
       "      <td>0.887 (+/- 0.001)</td>\n",
       "      <td>-35126.667 (+/- 320.957)</td>\n",
       "      <td>-35003.213 (+/- 98.591)</td>\n",
       "      <td>0.885968</td>\n",
       "    </tr>\n",
       "    <tr>\n",
       "      <th>XGBoost</th>\n",
       "      <td>1.206 (+/- 0.019)</td>\n",
       "      <td>0.071 (+/- 0.001)</td>\n",
       "      <td>0.952 (+/- 0.001)</td>\n",
       "      <td>0.958 (+/- 0.001)</td>\n",
       "      <td>-22847.273 (+/- 280.014)</td>\n",
       "      <td>-21762.174 (+/- 121.537)</td>\n",
       "      <td>0.951987</td>\n",
       "    </tr>\n",
       "  </tbody>\n",
       "</table>\n",
       "</div>"
      ],
      "text/plain": [
       "                           fit_time         score_time             test_r2  \\\n",
       "Dummy Regressor   0.077 (+/- 0.034)  0.017 (+/- 0.011)  -0.000 (+/- 0.000)   \n",
       "KNN Regressor     0.065 (+/- 0.002)  8.752 (+/- 0.022)   0.937 (+/- 0.002)   \n",
       "Ridge             0.105 (+/- 0.007)  0.015 (+/- 0.002)   0.836 (+/- 0.003)   \n",
       "RFR               6.291 (+/- 0.029)  0.091 (+/- 0.002)   0.960 (+/- 0.001)   \n",
       "GB               16.726 (+/- 0.087)  0.056 (+/- 0.006)   0.886 (+/- 0.002)   \n",
       "XGBoost           1.206 (+/- 0.019)  0.071 (+/- 0.001)   0.952 (+/- 0.001)   \n",
       "\n",
       "                          train_r2 test_neg_mean_absolute_error  \\\n",
       "Dummy Regressor  0.000 (+/- 0.000)    -113495.843 (+/- 270.251)   \n",
       "KNN Regressor    0.959 (+/- 0.000)     -25137.780 (+/- 252.463)   \n",
       "Ridge            0.836 (+/- 0.001)     -44616.154 (+/- 230.941)   \n",
       "RFR              0.991 (+/- 0.000)     -20484.158 (+/- 111.277)   \n",
       "GB               0.887 (+/- 0.001)     -35126.667 (+/- 320.957)   \n",
       "XGBoost          0.958 (+/- 0.001)     -22847.273 (+/- 280.014)   \n",
       "\n",
       "                train_neg_mean_absolute_error  test_adj_r2  \n",
       "Dummy Regressor      -113495.490 (+/- 61.269)    -0.000280  \n",
       "KNN Regressor         -20177.452 (+/- 67.989)     0.936982  \n",
       "Ridge                 -44597.761 (+/- 72.433)     0.835954  \n",
       "RFR                    -9228.692 (+/- 26.011)     0.959989  \n",
       "GB                    -35003.213 (+/- 98.591)     0.885968  \n",
       "XGBoost              -21762.174 (+/- 121.537)     0.951987  "
      ]
     },
     "execution_count": 71,
     "metadata": {},
     "output_type": "execute_result"
    }
   ],
   "source": [
    "# We will evaluate a set of models for this project\n",
    "regressor_models = {\n",
    "    \"Dummy Regressor\": DummyRegressor(), \n",
    "    \"KNN Regressor\": KNeighborsRegressor(),\n",
    "    \"Ridge\": Ridge(random_state=1),\n",
    "    \"RFR\": RandomForestRegressor(random_state=1, n_estimators=10), \n",
    "    \"GB\": GradientBoostingRegressor(),\n",
    "    \"XGBoost\": xgb.XGBRegressor()\n",
    "}\n",
    "\n",
    "cv_results_reg = {}\n",
    "scoring_metrics = ['r2', 'neg_mean_absolute_error']\n",
    "\n",
    "for model_name, model in regressor_models.items():\n",
    "    pipe = make_pipeline(preprocess, model)\n",
    "    cv_results_reg[model_name] = mean_std_cross_val_scores(pipe, X_train, y_train, return_train_score=True, n_jobs=-1, scoring=scoring_metrics)\n",
    "    print(\"Done with\", model_name)\n",
    "\n",
    "results_df_reg = pd.DataFrame(cv_results_reg).T\n",
    "\n",
    "# Calculating the adjusted R2: \n",
    "X_sample = preprocess.fit_transform(X_train)\n",
    "p = X_sample.shape[1]\n",
    "n = X_sample.shape[0]\n",
    "\n",
    "results_df_reg['test_r2_num'] = results_df_reg['test_r2'].apply(lambda x: float(re.search(r'\\d+\\.\\d+', x).group()) if re.search(r'\\d+\\.\\d+', x) else None)\n",
    "results_df_reg['test_adj_r2'] = 1 - ((1 - results_df_reg['test_r2_num']) * (n - 1) / (n - p - 1))\n",
    "results_df_reg.drop(columns=['test_r2_num'], inplace=True)\n",
    "\n",
    "results_df_reg\n"
   ]
  },
  {
   "cell_type": "markdown",
   "id": "0a7d0e66",
   "metadata": {},
   "source": [
    "### Model Evaluation \n",
    "\n",
    "- We look at adjusted R2 as the metrics of choice. While R2 represents proportion of variance of the target variable (price) explained by the independent variables (all the features X), adjusted R2 penalizes for using excessive number of features. \n",
    "\n",
    "- However, we can see that the number of examples far exceed the number of features, and R2 approximates to adjusted R2. We will use that as the parameter to be optimized later for hyperparameter optimization stage. \n",
    "\n",
    "- In the next steps, we will use XGBoost even though it has the second highest test_r2 after randomforest. However, the gap between test R2 and train R2 is much smaller for XGBoost when compared to Randomforest, which suggests that XGBoost model is less overfitted compared to RandomForest. "
   ]
  },
  {
   "cell_type": "markdown",
   "id": "f6c355a1",
   "metadata": {},
   "source": [
    "### Hyperparameter Optimization"
   ]
  },
  {
   "cell_type": "code",
   "execution_count": 72,
   "id": "0688b29f-4798-492a-aeb9-04fae85923ed",
   "metadata": {},
   "outputs": [
    {
     "data": {
      "text/html": [
       "<style>#sk-container-id-5 {color: black;}#sk-container-id-5 pre{padding: 0;}#sk-container-id-5 div.sk-toggleable {background-color: white;}#sk-container-id-5 label.sk-toggleable__label {cursor: pointer;display: block;width: 100%;margin-bottom: 0;padding: 0.3em;box-sizing: border-box;text-align: center;}#sk-container-id-5 label.sk-toggleable__label-arrow:before {content: \"▸\";float: left;margin-right: 0.25em;color: #696969;}#sk-container-id-5 label.sk-toggleable__label-arrow:hover:before {color: black;}#sk-container-id-5 div.sk-estimator:hover label.sk-toggleable__label-arrow:before {color: black;}#sk-container-id-5 div.sk-toggleable__content {max-height: 0;max-width: 0;overflow: hidden;text-align: left;background-color: #f0f8ff;}#sk-container-id-5 div.sk-toggleable__content pre {margin: 0.2em;color: black;border-radius: 0.25em;background-color: #f0f8ff;}#sk-container-id-5 input.sk-toggleable__control:checked~div.sk-toggleable__content {max-height: 200px;max-width: 100%;overflow: auto;}#sk-container-id-5 input.sk-toggleable__control:checked~label.sk-toggleable__label-arrow:before {content: \"▾\";}#sk-container-id-5 div.sk-estimator input.sk-toggleable__control:checked~label.sk-toggleable__label {background-color: #d4ebff;}#sk-container-id-5 div.sk-label input.sk-toggleable__control:checked~label.sk-toggleable__label {background-color: #d4ebff;}#sk-container-id-5 input.sk-hidden--visually {border: 0;clip: rect(1px 1px 1px 1px);clip: rect(1px, 1px, 1px, 1px);height: 1px;margin: -1px;overflow: hidden;padding: 0;position: absolute;width: 1px;}#sk-container-id-5 div.sk-estimator {font-family: monospace;background-color: #f0f8ff;border: 1px dotted black;border-radius: 0.25em;box-sizing: border-box;margin-bottom: 0.5em;}#sk-container-id-5 div.sk-estimator:hover {background-color: #d4ebff;}#sk-container-id-5 div.sk-parallel-item::after {content: \"\";width: 100%;border-bottom: 1px solid gray;flex-grow: 1;}#sk-container-id-5 div.sk-label:hover label.sk-toggleable__label {background-color: #d4ebff;}#sk-container-id-5 div.sk-serial::before {content: \"\";position: absolute;border-left: 1px solid gray;box-sizing: border-box;top: 0;bottom: 0;left: 50%;z-index: 0;}#sk-container-id-5 div.sk-serial {display: flex;flex-direction: column;align-items: center;background-color: white;padding-right: 0.2em;padding-left: 0.2em;position: relative;}#sk-container-id-5 div.sk-item {position: relative;z-index: 1;}#sk-container-id-5 div.sk-parallel {display: flex;align-items: stretch;justify-content: center;background-color: white;position: relative;}#sk-container-id-5 div.sk-item::before, #sk-container-id-5 div.sk-parallel-item::before {content: \"\";position: absolute;border-left: 1px solid gray;box-sizing: border-box;top: 0;bottom: 0;left: 50%;z-index: -1;}#sk-container-id-5 div.sk-parallel-item {display: flex;flex-direction: column;z-index: 1;position: relative;background-color: white;}#sk-container-id-5 div.sk-parallel-item:first-child::after {align-self: flex-end;width: 50%;}#sk-container-id-5 div.sk-parallel-item:last-child::after {align-self: flex-start;width: 50%;}#sk-container-id-5 div.sk-parallel-item:only-child::after {width: 0;}#sk-container-id-5 div.sk-dashed-wrapped {border: 1px dashed gray;margin: 0 0.4em 0.5em 0.4em;box-sizing: border-box;padding-bottom: 0.4em;background-color: white;}#sk-container-id-5 div.sk-label label {font-family: monospace;font-weight: bold;display: inline-block;line-height: 1.2em;}#sk-container-id-5 div.sk-label-container {text-align: center;}#sk-container-id-5 div.sk-container {/* jupyter's `normalize.less` sets `[hidden] { display: none; }` but bootstrap.min.css set `[hidden] { display: none !important; }` so we also need the `!important` here to be able to override the default hidden behavior on the sphinx rendered scikit-learn.org. See: https://github.com/scikit-learn/scikit-learn/issues/21755 */display: inline-block !important;position: relative;}#sk-container-id-5 div.sk-text-repr-fallback {display: none;}</style><div id=\"sk-container-id-5\" class=\"sk-top-container\"><div class=\"sk-text-repr-fallback\"><pre>RandomizedSearchCV(estimator=Pipeline(steps=[(&#x27;columntransformer&#x27;,\n",
       "                                              ColumnTransformer(transformers=[(&#x27;standardscaler&#x27;,\n",
       "                                                                               StandardScaler(),\n",
       "                                                                               [&#x27;distance_mrt&#x27;,\n",
       "                                                                                &#x27;age_transation&#x27;,\n",
       "                                                                                &#x27;transaction_yr&#x27;,\n",
       "                                                                                &#x27;Postal&#x27;,\n",
       "                                                                                &#x27;storey_height&#x27;]),\n",
       "                                                                              (&#x27;pipeline&#x27;,\n",
       "                                                                               Pipeline(steps=[(&#x27;onehotencoder&#x27;,\n",
       "                                                                                                OneHotEncoder(handle_unknown=&#x27;ignore&#x27;,\n",
       "                                                                                                              sparse_output=False))]),\n",
       "                                                                               [&#x27;town&#x27;,\n",
       "                                                                                &#x27;flat_num&#x27;])])),\n",
       "                                             (&#x27;xgbregr...\n",
       "                                                           max_cat_to_onehot=None,\n",
       "                                                           max_delta_step=None,\n",
       "                                                           max_depth=None,\n",
       "                                                           max_leaves=None,\n",
       "                                                           min_child_weight=None,\n",
       "                                                           missing=nan,\n",
       "                                                           monotone_constraints=None,\n",
       "                                                           multi_strategy=None,\n",
       "                                                           n_estimators=None,\n",
       "                                                           n_jobs=None,\n",
       "                                                           num_parallel_tree=None,\n",
       "                                                           random_state=None, ...))]),\n",
       "                   n_jobs=-1,\n",
       "                   param_distributions={&#x27;xgbregressor__gamma&#x27;: [0, 1, 10, 20,\n",
       "                                                                100],\n",
       "                                        &#x27;xgbregressor__max_depth&#x27;: [3, 4, 5, 6,\n",
       "                                                                    7]},\n",
       "                   return_train_score=True)</pre><b>In a Jupyter environment, please rerun this cell to show the HTML representation or trust the notebook. <br />On GitHub, the HTML representation is unable to render, please try loading this page with nbviewer.org.</b></div><div class=\"sk-container\" hidden><div class=\"sk-item sk-dashed-wrapped\"><div class=\"sk-label-container\"><div class=\"sk-label sk-toggleable\"><input class=\"sk-toggleable__control sk-hidden--visually\" id=\"sk-estimator-id-35\" type=\"checkbox\" ><label for=\"sk-estimator-id-35\" class=\"sk-toggleable__label sk-toggleable__label-arrow\">RandomizedSearchCV</label><div class=\"sk-toggleable__content\"><pre>RandomizedSearchCV(estimator=Pipeline(steps=[(&#x27;columntransformer&#x27;,\n",
       "                                              ColumnTransformer(transformers=[(&#x27;standardscaler&#x27;,\n",
       "                                                                               StandardScaler(),\n",
       "                                                                               [&#x27;distance_mrt&#x27;,\n",
       "                                                                                &#x27;age_transation&#x27;,\n",
       "                                                                                &#x27;transaction_yr&#x27;,\n",
       "                                                                                &#x27;Postal&#x27;,\n",
       "                                                                                &#x27;storey_height&#x27;]),\n",
       "                                                                              (&#x27;pipeline&#x27;,\n",
       "                                                                               Pipeline(steps=[(&#x27;onehotencoder&#x27;,\n",
       "                                                                                                OneHotEncoder(handle_unknown=&#x27;ignore&#x27;,\n",
       "                                                                                                              sparse_output=False))]),\n",
       "                                                                               [&#x27;town&#x27;,\n",
       "                                                                                &#x27;flat_num&#x27;])])),\n",
       "                                             (&#x27;xgbregr...\n",
       "                                                           max_cat_to_onehot=None,\n",
       "                                                           max_delta_step=None,\n",
       "                                                           max_depth=None,\n",
       "                                                           max_leaves=None,\n",
       "                                                           min_child_weight=None,\n",
       "                                                           missing=nan,\n",
       "                                                           monotone_constraints=None,\n",
       "                                                           multi_strategy=None,\n",
       "                                                           n_estimators=None,\n",
       "                                                           n_jobs=None,\n",
       "                                                           num_parallel_tree=None,\n",
       "                                                           random_state=None, ...))]),\n",
       "                   n_jobs=-1,\n",
       "                   param_distributions={&#x27;xgbregressor__gamma&#x27;: [0, 1, 10, 20,\n",
       "                                                                100],\n",
       "                                        &#x27;xgbregressor__max_depth&#x27;: [3, 4, 5, 6,\n",
       "                                                                    7]},\n",
       "                   return_train_score=True)</pre></div></div></div><div class=\"sk-parallel\"><div class=\"sk-parallel-item\"><div class=\"sk-item\"><div class=\"sk-label-container\"><div class=\"sk-label sk-toggleable\"><input class=\"sk-toggleable__control sk-hidden--visually\" id=\"sk-estimator-id-36\" type=\"checkbox\" ><label for=\"sk-estimator-id-36\" class=\"sk-toggleable__label sk-toggleable__label-arrow\">estimator: Pipeline</label><div class=\"sk-toggleable__content\"><pre>Pipeline(steps=[(&#x27;columntransformer&#x27;,\n",
       "                 ColumnTransformer(transformers=[(&#x27;standardscaler&#x27;,\n",
       "                                                  StandardScaler(),\n",
       "                                                  [&#x27;distance_mrt&#x27;,\n",
       "                                                   &#x27;age_transation&#x27;,\n",
       "                                                   &#x27;transaction_yr&#x27;, &#x27;Postal&#x27;,\n",
       "                                                   &#x27;storey_height&#x27;]),\n",
       "                                                 (&#x27;pipeline&#x27;,\n",
       "                                                  Pipeline(steps=[(&#x27;onehotencoder&#x27;,\n",
       "                                                                   OneHotEncoder(handle_unknown=&#x27;ignore&#x27;,\n",
       "                                                                                 sparse_output=False))]),\n",
       "                                                  [&#x27;town&#x27;, &#x27;flat_num&#x27;])])),\n",
       "                (&#x27;xgbregressor&#x27;,\n",
       "                 XGBRegressor(base_scor...\n",
       "                              feature_types=None, gamma=None, grow_policy=None,\n",
       "                              importance_type=None,\n",
       "                              interaction_constraints=None, learning_rate=None,\n",
       "                              max_bin=None, max_cat_threshold=None,\n",
       "                              max_cat_to_onehot=None, max_delta_step=None,\n",
       "                              max_depth=None, max_leaves=None,\n",
       "                              min_child_weight=None, missing=nan,\n",
       "                              monotone_constraints=None, multi_strategy=None,\n",
       "                              n_estimators=None, n_jobs=None,\n",
       "                              num_parallel_tree=None, random_state=None, ...))])</pre></div></div></div><div class=\"sk-serial\"><div class=\"sk-item\"><div class=\"sk-serial\"><div class=\"sk-item sk-dashed-wrapped\"><div class=\"sk-label-container\"><div class=\"sk-label sk-toggleable\"><input class=\"sk-toggleable__control sk-hidden--visually\" id=\"sk-estimator-id-37\" type=\"checkbox\" ><label for=\"sk-estimator-id-37\" class=\"sk-toggleable__label sk-toggleable__label-arrow\">columntransformer: ColumnTransformer</label><div class=\"sk-toggleable__content\"><pre>ColumnTransformer(transformers=[(&#x27;standardscaler&#x27;, StandardScaler(),\n",
       "                                 [&#x27;distance_mrt&#x27;, &#x27;age_transation&#x27;,\n",
       "                                  &#x27;transaction_yr&#x27;, &#x27;Postal&#x27;,\n",
       "                                  &#x27;storey_height&#x27;]),\n",
       "                                (&#x27;pipeline&#x27;,\n",
       "                                 Pipeline(steps=[(&#x27;onehotencoder&#x27;,\n",
       "                                                  OneHotEncoder(handle_unknown=&#x27;ignore&#x27;,\n",
       "                                                                sparse_output=False))]),\n",
       "                                 [&#x27;town&#x27;, &#x27;flat_num&#x27;])])</pre></div></div></div><div class=\"sk-parallel\"><div class=\"sk-parallel-item\"><div class=\"sk-item\"><div class=\"sk-label-container\"><div class=\"sk-label sk-toggleable\"><input class=\"sk-toggleable__control sk-hidden--visually\" id=\"sk-estimator-id-38\" type=\"checkbox\" ><label for=\"sk-estimator-id-38\" class=\"sk-toggleable__label sk-toggleable__label-arrow\">standardscaler</label><div class=\"sk-toggleable__content\"><pre>[&#x27;distance_mrt&#x27;, &#x27;age_transation&#x27;, &#x27;transaction_yr&#x27;, &#x27;Postal&#x27;, &#x27;storey_height&#x27;]</pre></div></div></div><div class=\"sk-serial\"><div class=\"sk-item\"><div class=\"sk-estimator sk-toggleable\"><input class=\"sk-toggleable__control sk-hidden--visually\" id=\"sk-estimator-id-39\" type=\"checkbox\" ><label for=\"sk-estimator-id-39\" class=\"sk-toggleable__label sk-toggleable__label-arrow\">StandardScaler</label><div class=\"sk-toggleable__content\"><pre>StandardScaler()</pre></div></div></div></div></div></div><div class=\"sk-parallel-item\"><div class=\"sk-item\"><div class=\"sk-label-container\"><div class=\"sk-label sk-toggleable\"><input class=\"sk-toggleable__control sk-hidden--visually\" id=\"sk-estimator-id-40\" type=\"checkbox\" ><label for=\"sk-estimator-id-40\" class=\"sk-toggleable__label sk-toggleable__label-arrow\">pipeline</label><div class=\"sk-toggleable__content\"><pre>[&#x27;town&#x27;, &#x27;flat_num&#x27;]</pre></div></div></div><div class=\"sk-serial\"><div class=\"sk-item\"><div class=\"sk-serial\"><div class=\"sk-item\"><div class=\"sk-estimator sk-toggleable\"><input class=\"sk-toggleable__control sk-hidden--visually\" id=\"sk-estimator-id-41\" type=\"checkbox\" ><label for=\"sk-estimator-id-41\" class=\"sk-toggleable__label sk-toggleable__label-arrow\">OneHotEncoder</label><div class=\"sk-toggleable__content\"><pre>OneHotEncoder(handle_unknown=&#x27;ignore&#x27;, sparse_output=False)</pre></div></div></div></div></div></div></div></div></div></div><div class=\"sk-item\"><div class=\"sk-estimator sk-toggleable\"><input class=\"sk-toggleable__control sk-hidden--visually\" id=\"sk-estimator-id-42\" type=\"checkbox\" ><label for=\"sk-estimator-id-42\" class=\"sk-toggleable__label sk-toggleable__label-arrow\">XGBRegressor</label><div class=\"sk-toggleable__content\"><pre>XGBRegressor(base_score=None, booster=None, callbacks=None,\n",
       "             colsample_bylevel=None, colsample_bynode=None,\n",
       "             colsample_bytree=None, device=None, early_stopping_rounds=None,\n",
       "             enable_categorical=False, eval_metric=None, feature_types=None,\n",
       "             gamma=None, grow_policy=None, importance_type=None,\n",
       "             interaction_constraints=None, learning_rate=None, max_bin=None,\n",
       "             max_cat_threshold=None, max_cat_to_onehot=None,\n",
       "             max_delta_step=None, max_depth=None, max_leaves=None,\n",
       "             min_child_weight=None, missing=nan, monotone_constraints=None,\n",
       "             multi_strategy=None, n_estimators=None, n_jobs=None,\n",
       "             num_parallel_tree=None, random_state=None, ...)</pre></div></div></div></div></div></div></div></div></div></div></div></div>"
      ],
      "text/plain": [
       "RandomizedSearchCV(estimator=Pipeline(steps=[('columntransformer',\n",
       "                                              ColumnTransformer(transformers=[('standardscaler',\n",
       "                                                                               StandardScaler(),\n",
       "                                                                               ['distance_mrt',\n",
       "                                                                                'age_transation',\n",
       "                                                                                'transaction_yr',\n",
       "                                                                                'Postal',\n",
       "                                                                                'storey_height']),\n",
       "                                                                              ('pipeline',\n",
       "                                                                               Pipeline(steps=[('onehotencoder',\n",
       "                                                                                                OneHotEncoder(handle_unknown='ignore',\n",
       "                                                                                                              sparse_output=False))]),\n",
       "                                                                               ['town',\n",
       "                                                                                'flat_num'])])),\n",
       "                                             ('xgbregr...\n",
       "                                                           max_cat_to_onehot=None,\n",
       "                                                           max_delta_step=None,\n",
       "                                                           max_depth=None,\n",
       "                                                           max_leaves=None,\n",
       "                                                           min_child_weight=None,\n",
       "                                                           missing=nan,\n",
       "                                                           monotone_constraints=None,\n",
       "                                                           multi_strategy=None,\n",
       "                                                           n_estimators=None,\n",
       "                                                           n_jobs=None,\n",
       "                                                           num_parallel_tree=None,\n",
       "                                                           random_state=None, ...))]),\n",
       "                   n_jobs=-1,\n",
       "                   param_distributions={'xgbregressor__gamma': [0, 1, 10, 20,\n",
       "                                                                100],\n",
       "                                        'xgbregressor__max_depth': [3, 4, 5, 6,\n",
       "                                                                    7]},\n",
       "                   return_train_score=True)"
      ]
     },
     "execution_count": 72,
     "metadata": {},
     "output_type": "execute_result"
    }
   ],
   "source": [
    "# Optimize the hyperparameters\n",
    "pipe_xgb = make_pipeline(\n",
    "    preprocess,\n",
    "    xgb.XGBRegressor()\n",
    ")\n",
    "\n",
    "param_grid  = {\n",
    "    'xgbregressor__gamma': [0,1,10,20,100],\n",
    "    'xgbregressor__max_depth': [3,4,5,6,7]\n",
    "}\n",
    "xgb_random_search = RandomizedSearchCV(pipe_xgb, param_distributions=param_grid, n_iter=10, n_jobs=-1, return_train_score=True)\n",
    "xgb_random_search.fit(X_train, y_train)\n"
   ]
  },
  {
   "cell_type": "code",
   "execution_count": 73,
   "id": "a226c72e-e3f0-42c8-b0f0-c6987434df04",
   "metadata": {},
   "outputs": [
    {
     "data": {
      "text/html": [
       "<div>\n",
       "<style scoped>\n",
       "    .dataframe tbody tr th:only-of-type {\n",
       "        vertical-align: middle;\n",
       "    }\n",
       "\n",
       "    .dataframe tbody tr th {\n",
       "        vertical-align: top;\n",
       "    }\n",
       "\n",
       "    .dataframe thead th {\n",
       "        text-align: right;\n",
       "    }\n",
       "</style>\n",
       "<table border=\"1\" class=\"dataframe\">\n",
       "  <thead>\n",
       "    <tr style=\"text-align: right;\">\n",
       "      <th>rank_test_score</th>\n",
       "      <th>1</th>\n",
       "      <th>1</th>\n",
       "      <th>3</th>\n",
       "      <th>3</th>\n",
       "      <th>3</th>\n",
       "      <th>6</th>\n",
       "      <th>6</th>\n",
       "      <th>8</th>\n",
       "      <th>8</th>\n",
       "      <th>10</th>\n",
       "    </tr>\n",
       "  </thead>\n",
       "  <tbody>\n",
       "    <tr>\n",
       "      <th>mean_test_score</th>\n",
       "      <td>0.957363</td>\n",
       "      <td>0.957363</td>\n",
       "      <td>0.952298</td>\n",
       "      <td>0.952298</td>\n",
       "      <td>0.952298</td>\n",
       "      <td>0.945066</td>\n",
       "      <td>0.945066</td>\n",
       "      <td>0.933366</td>\n",
       "      <td>0.933366</td>\n",
       "      <td>0.916548</td>\n",
       "    </tr>\n",
       "    <tr>\n",
       "      <th>param_xgbregressor__gamma</th>\n",
       "      <td>10</td>\n",
       "      <td>20</td>\n",
       "      <td>0</td>\n",
       "      <td>100</td>\n",
       "      <td>10</td>\n",
       "      <td>10</td>\n",
       "      <td>0</td>\n",
       "      <td>100</td>\n",
       "      <td>20</td>\n",
       "      <td>100</td>\n",
       "    </tr>\n",
       "    <tr>\n",
       "      <th>param_xgbregressor__max_depth</th>\n",
       "      <td>7</td>\n",
       "      <td>7</td>\n",
       "      <td>6</td>\n",
       "      <td>6</td>\n",
       "      <td>6</td>\n",
       "      <td>5</td>\n",
       "      <td>5</td>\n",
       "      <td>4</td>\n",
       "      <td>4</td>\n",
       "      <td>3</td>\n",
       "    </tr>\n",
       "    <tr>\n",
       "      <th>mean_fit_time</th>\n",
       "      <td>2.765703</td>\n",
       "      <td>2.59199</td>\n",
       "      <td>2.392232</td>\n",
       "      <td>2.109561</td>\n",
       "      <td>1.979264</td>\n",
       "      <td>2.185939</td>\n",
       "      <td>2.100023</td>\n",
       "      <td>1.999817</td>\n",
       "      <td>1.512607</td>\n",
       "      <td>1.581922</td>\n",
       "    </tr>\n",
       "  </tbody>\n",
       "</table>\n",
       "</div>"
      ],
      "text/plain": [
       "rank_test_score                      1         1         3         3   \\\n",
       "mean_test_score                0.957363  0.957363  0.952298  0.952298   \n",
       "param_xgbregressor__gamma            10        20         0       100   \n",
       "param_xgbregressor__max_depth         7         7         6         6   \n",
       "mean_fit_time                  2.765703   2.59199  2.392232  2.109561   \n",
       "\n",
       "rank_test_score                      3         6         6         8   \\\n",
       "mean_test_score                0.952298  0.945066  0.945066  0.933366   \n",
       "param_xgbregressor__gamma            10        10         0       100   \n",
       "param_xgbregressor__max_depth         6         5         5         4   \n",
       "mean_fit_time                  1.979264  2.185939  2.100023  1.999817   \n",
       "\n",
       "rank_test_score                      8         10  \n",
       "mean_test_score                0.933366  0.916548  \n",
       "param_xgbregressor__gamma            20       100  \n",
       "param_xgbregressor__max_depth         4         3  \n",
       "mean_fit_time                  1.512607  1.581922  "
      ]
     },
     "execution_count": 73,
     "metadata": {},
     "output_type": "execute_result"
    }
   ],
   "source": [
    "results = pd.DataFrame(xgb_random_search.cv_results_)[\n",
    "    [\n",
    "        \"mean_test_score\",\n",
    "        \"param_xgbregressor__gamma\", \n",
    "        \"param_xgbregressor__max_depth\",\n",
    "        \"mean_fit_time\",\n",
    "        \"rank_test_score\",\n",
    "    ]\n",
    "].set_index(\"rank_test_score\").sort_index().T\n",
    "\n",
    "results"
   ]
  },
  {
   "cell_type": "code",
   "execution_count": 74,
   "id": "cdb75c26-60c7-41a0-923a-c4acb55af1c0",
   "metadata": {},
   "outputs": [
    {
     "data": {
      "text/html": [
       "<style>#sk-container-id-6 {color: black;}#sk-container-id-6 pre{padding: 0;}#sk-container-id-6 div.sk-toggleable {background-color: white;}#sk-container-id-6 label.sk-toggleable__label {cursor: pointer;display: block;width: 100%;margin-bottom: 0;padding: 0.3em;box-sizing: border-box;text-align: center;}#sk-container-id-6 label.sk-toggleable__label-arrow:before {content: \"▸\";float: left;margin-right: 0.25em;color: #696969;}#sk-container-id-6 label.sk-toggleable__label-arrow:hover:before {color: black;}#sk-container-id-6 div.sk-estimator:hover label.sk-toggleable__label-arrow:before {color: black;}#sk-container-id-6 div.sk-toggleable__content {max-height: 0;max-width: 0;overflow: hidden;text-align: left;background-color: #f0f8ff;}#sk-container-id-6 div.sk-toggleable__content pre {margin: 0.2em;color: black;border-radius: 0.25em;background-color: #f0f8ff;}#sk-container-id-6 input.sk-toggleable__control:checked~div.sk-toggleable__content {max-height: 200px;max-width: 100%;overflow: auto;}#sk-container-id-6 input.sk-toggleable__control:checked~label.sk-toggleable__label-arrow:before {content: \"▾\";}#sk-container-id-6 div.sk-estimator input.sk-toggleable__control:checked~label.sk-toggleable__label {background-color: #d4ebff;}#sk-container-id-6 div.sk-label input.sk-toggleable__control:checked~label.sk-toggleable__label {background-color: #d4ebff;}#sk-container-id-6 input.sk-hidden--visually {border: 0;clip: rect(1px 1px 1px 1px);clip: rect(1px, 1px, 1px, 1px);height: 1px;margin: -1px;overflow: hidden;padding: 0;position: absolute;width: 1px;}#sk-container-id-6 div.sk-estimator {font-family: monospace;background-color: #f0f8ff;border: 1px dotted black;border-radius: 0.25em;box-sizing: border-box;margin-bottom: 0.5em;}#sk-container-id-6 div.sk-estimator:hover {background-color: #d4ebff;}#sk-container-id-6 div.sk-parallel-item::after {content: \"\";width: 100%;border-bottom: 1px solid gray;flex-grow: 1;}#sk-container-id-6 div.sk-label:hover label.sk-toggleable__label {background-color: #d4ebff;}#sk-container-id-6 div.sk-serial::before {content: \"\";position: absolute;border-left: 1px solid gray;box-sizing: border-box;top: 0;bottom: 0;left: 50%;z-index: 0;}#sk-container-id-6 div.sk-serial {display: flex;flex-direction: column;align-items: center;background-color: white;padding-right: 0.2em;padding-left: 0.2em;position: relative;}#sk-container-id-6 div.sk-item {position: relative;z-index: 1;}#sk-container-id-6 div.sk-parallel {display: flex;align-items: stretch;justify-content: center;background-color: white;position: relative;}#sk-container-id-6 div.sk-item::before, #sk-container-id-6 div.sk-parallel-item::before {content: \"\";position: absolute;border-left: 1px solid gray;box-sizing: border-box;top: 0;bottom: 0;left: 50%;z-index: -1;}#sk-container-id-6 div.sk-parallel-item {display: flex;flex-direction: column;z-index: 1;position: relative;background-color: white;}#sk-container-id-6 div.sk-parallel-item:first-child::after {align-self: flex-end;width: 50%;}#sk-container-id-6 div.sk-parallel-item:last-child::after {align-self: flex-start;width: 50%;}#sk-container-id-6 div.sk-parallel-item:only-child::after {width: 0;}#sk-container-id-6 div.sk-dashed-wrapped {border: 1px dashed gray;margin: 0 0.4em 0.5em 0.4em;box-sizing: border-box;padding-bottom: 0.4em;background-color: white;}#sk-container-id-6 div.sk-label label {font-family: monospace;font-weight: bold;display: inline-block;line-height: 1.2em;}#sk-container-id-6 div.sk-label-container {text-align: center;}#sk-container-id-6 div.sk-container {/* jupyter's `normalize.less` sets `[hidden] { display: none; }` but bootstrap.min.css set `[hidden] { display: none !important; }` so we also need the `!important` here to be able to override the default hidden behavior on the sphinx rendered scikit-learn.org. See: https://github.com/scikit-learn/scikit-learn/issues/21755 */display: inline-block !important;position: relative;}#sk-container-id-6 div.sk-text-repr-fallback {display: none;}</style><div id=\"sk-container-id-6\" class=\"sk-top-container\"><div class=\"sk-text-repr-fallback\"><pre>Pipeline(steps=[(&#x27;columntransformer&#x27;,\n",
       "                 ColumnTransformer(transformers=[(&#x27;standardscaler&#x27;,\n",
       "                                                  StandardScaler(),\n",
       "                                                  [&#x27;distance_mrt&#x27;,\n",
       "                                                   &#x27;age_transation&#x27;,\n",
       "                                                   &#x27;transaction_yr&#x27;, &#x27;Postal&#x27;,\n",
       "                                                   &#x27;storey_height&#x27;]),\n",
       "                                                 (&#x27;pipeline&#x27;,\n",
       "                                                  Pipeline(steps=[(&#x27;onehotencoder&#x27;,\n",
       "                                                                   OneHotEncoder(handle_unknown=&#x27;ignore&#x27;,\n",
       "                                                                                 sparse_output=False))]),\n",
       "                                                  [&#x27;town&#x27;, &#x27;flat_num&#x27;])])),\n",
       "                (&#x27;xgbregressor&#x27;,\n",
       "                 XGBRegressor(base_scor...\n",
       "                              feature_types=None, gamma=10, grow_policy=None,\n",
       "                              importance_type=None,\n",
       "                              interaction_constraints=None, learning_rate=None,\n",
       "                              max_bin=None, max_cat_threshold=None,\n",
       "                              max_cat_to_onehot=None, max_delta_step=None,\n",
       "                              max_depth=7, max_leaves=None,\n",
       "                              min_child_weight=None, missing=nan,\n",
       "                              monotone_constraints=None, multi_strategy=None,\n",
       "                              n_estimators=None, n_jobs=None,\n",
       "                              num_parallel_tree=None, random_state=None, ...))])</pre><b>In a Jupyter environment, please rerun this cell to show the HTML representation or trust the notebook. <br />On GitHub, the HTML representation is unable to render, please try loading this page with nbviewer.org.</b></div><div class=\"sk-container\" hidden><div class=\"sk-item sk-dashed-wrapped\"><div class=\"sk-label-container\"><div class=\"sk-label sk-toggleable\"><input class=\"sk-toggleable__control sk-hidden--visually\" id=\"sk-estimator-id-43\" type=\"checkbox\" ><label for=\"sk-estimator-id-43\" class=\"sk-toggleable__label sk-toggleable__label-arrow\">Pipeline</label><div class=\"sk-toggleable__content\"><pre>Pipeline(steps=[(&#x27;columntransformer&#x27;,\n",
       "                 ColumnTransformer(transformers=[(&#x27;standardscaler&#x27;,\n",
       "                                                  StandardScaler(),\n",
       "                                                  [&#x27;distance_mrt&#x27;,\n",
       "                                                   &#x27;age_transation&#x27;,\n",
       "                                                   &#x27;transaction_yr&#x27;, &#x27;Postal&#x27;,\n",
       "                                                   &#x27;storey_height&#x27;]),\n",
       "                                                 (&#x27;pipeline&#x27;,\n",
       "                                                  Pipeline(steps=[(&#x27;onehotencoder&#x27;,\n",
       "                                                                   OneHotEncoder(handle_unknown=&#x27;ignore&#x27;,\n",
       "                                                                                 sparse_output=False))]),\n",
       "                                                  [&#x27;town&#x27;, &#x27;flat_num&#x27;])])),\n",
       "                (&#x27;xgbregressor&#x27;,\n",
       "                 XGBRegressor(base_scor...\n",
       "                              feature_types=None, gamma=10, grow_policy=None,\n",
       "                              importance_type=None,\n",
       "                              interaction_constraints=None, learning_rate=None,\n",
       "                              max_bin=None, max_cat_threshold=None,\n",
       "                              max_cat_to_onehot=None, max_delta_step=None,\n",
       "                              max_depth=7, max_leaves=None,\n",
       "                              min_child_weight=None, missing=nan,\n",
       "                              monotone_constraints=None, multi_strategy=None,\n",
       "                              n_estimators=None, n_jobs=None,\n",
       "                              num_parallel_tree=None, random_state=None, ...))])</pre></div></div></div><div class=\"sk-serial\"><div class=\"sk-item sk-dashed-wrapped\"><div class=\"sk-label-container\"><div class=\"sk-label sk-toggleable\"><input class=\"sk-toggleable__control sk-hidden--visually\" id=\"sk-estimator-id-44\" type=\"checkbox\" ><label for=\"sk-estimator-id-44\" class=\"sk-toggleable__label sk-toggleable__label-arrow\">columntransformer: ColumnTransformer</label><div class=\"sk-toggleable__content\"><pre>ColumnTransformer(transformers=[(&#x27;standardscaler&#x27;, StandardScaler(),\n",
       "                                 [&#x27;distance_mrt&#x27;, &#x27;age_transation&#x27;,\n",
       "                                  &#x27;transaction_yr&#x27;, &#x27;Postal&#x27;,\n",
       "                                  &#x27;storey_height&#x27;]),\n",
       "                                (&#x27;pipeline&#x27;,\n",
       "                                 Pipeline(steps=[(&#x27;onehotencoder&#x27;,\n",
       "                                                  OneHotEncoder(handle_unknown=&#x27;ignore&#x27;,\n",
       "                                                                sparse_output=False))]),\n",
       "                                 [&#x27;town&#x27;, &#x27;flat_num&#x27;])])</pre></div></div></div><div class=\"sk-parallel\"><div class=\"sk-parallel-item\"><div class=\"sk-item\"><div class=\"sk-label-container\"><div class=\"sk-label sk-toggleable\"><input class=\"sk-toggleable__control sk-hidden--visually\" id=\"sk-estimator-id-45\" type=\"checkbox\" ><label for=\"sk-estimator-id-45\" class=\"sk-toggleable__label sk-toggleable__label-arrow\">standardscaler</label><div class=\"sk-toggleable__content\"><pre>[&#x27;distance_mrt&#x27;, &#x27;age_transation&#x27;, &#x27;transaction_yr&#x27;, &#x27;Postal&#x27;, &#x27;storey_height&#x27;]</pre></div></div></div><div class=\"sk-serial\"><div class=\"sk-item\"><div class=\"sk-estimator sk-toggleable\"><input class=\"sk-toggleable__control sk-hidden--visually\" id=\"sk-estimator-id-46\" type=\"checkbox\" ><label for=\"sk-estimator-id-46\" class=\"sk-toggleable__label sk-toggleable__label-arrow\">StandardScaler</label><div class=\"sk-toggleable__content\"><pre>StandardScaler()</pre></div></div></div></div></div></div><div class=\"sk-parallel-item\"><div class=\"sk-item\"><div class=\"sk-label-container\"><div class=\"sk-label sk-toggleable\"><input class=\"sk-toggleable__control sk-hidden--visually\" id=\"sk-estimator-id-47\" type=\"checkbox\" ><label for=\"sk-estimator-id-47\" class=\"sk-toggleable__label sk-toggleable__label-arrow\">pipeline</label><div class=\"sk-toggleable__content\"><pre>[&#x27;town&#x27;, &#x27;flat_num&#x27;]</pre></div></div></div><div class=\"sk-serial\"><div class=\"sk-item\"><div class=\"sk-serial\"><div class=\"sk-item\"><div class=\"sk-estimator sk-toggleable\"><input class=\"sk-toggleable__control sk-hidden--visually\" id=\"sk-estimator-id-48\" type=\"checkbox\" ><label for=\"sk-estimator-id-48\" class=\"sk-toggleable__label sk-toggleable__label-arrow\">OneHotEncoder</label><div class=\"sk-toggleable__content\"><pre>OneHotEncoder(handle_unknown=&#x27;ignore&#x27;, sparse_output=False)</pre></div></div></div></div></div></div></div></div></div></div><div class=\"sk-item\"><div class=\"sk-estimator sk-toggleable\"><input class=\"sk-toggleable__control sk-hidden--visually\" id=\"sk-estimator-id-49\" type=\"checkbox\" ><label for=\"sk-estimator-id-49\" class=\"sk-toggleable__label sk-toggleable__label-arrow\">XGBRegressor</label><div class=\"sk-toggleable__content\"><pre>XGBRegressor(base_score=None, booster=None, callbacks=None,\n",
       "             colsample_bylevel=None, colsample_bynode=None,\n",
       "             colsample_bytree=None, device=None, early_stopping_rounds=None,\n",
       "             enable_categorical=False, eval_metric=None, feature_types=None,\n",
       "             gamma=10, grow_policy=None, importance_type=None,\n",
       "             interaction_constraints=None, learning_rate=None, max_bin=None,\n",
       "             max_cat_threshold=None, max_cat_to_onehot=None,\n",
       "             max_delta_step=None, max_depth=7, max_leaves=None,\n",
       "             min_child_weight=None, missing=nan, monotone_constraints=None,\n",
       "             multi_strategy=None, n_estimators=None, n_jobs=None,\n",
       "             num_parallel_tree=None, random_state=None, ...)</pre></div></div></div></div></div></div></div>"
      ],
      "text/plain": [
       "Pipeline(steps=[('columntransformer',\n",
       "                 ColumnTransformer(transformers=[('standardscaler',\n",
       "                                                  StandardScaler(),\n",
       "                                                  ['distance_mrt',\n",
       "                                                   'age_transation',\n",
       "                                                   'transaction_yr', 'Postal',\n",
       "                                                   'storey_height']),\n",
       "                                                 ('pipeline',\n",
       "                                                  Pipeline(steps=[('onehotencoder',\n",
       "                                                                   OneHotEncoder(handle_unknown='ignore',\n",
       "                                                                                 sparse_output=False))]),\n",
       "                                                  ['town', 'flat_num'])])),\n",
       "                ('xgbregressor',\n",
       "                 XGBRegressor(base_scor...\n",
       "                              feature_types=None, gamma=10, grow_policy=None,\n",
       "                              importance_type=None,\n",
       "                              interaction_constraints=None, learning_rate=None,\n",
       "                              max_bin=None, max_cat_threshold=None,\n",
       "                              max_cat_to_onehot=None, max_delta_step=None,\n",
       "                              max_depth=7, max_leaves=None,\n",
       "                              min_child_weight=None, missing=nan,\n",
       "                              monotone_constraints=None, multi_strategy=None,\n",
       "                              n_estimators=None, n_jobs=None,\n",
       "                              num_parallel_tree=None, random_state=None, ...))])"
      ]
     },
     "execution_count": 74,
     "metadata": {},
     "output_type": "execute_result"
    }
   ],
   "source": [
    "opt_params = xgb_random_search.best_params_\n",
    "\n",
    "pipe_xgb_opt = make_pipeline(\n",
    "    preprocess,\n",
    "    xgb.XGBRegressor(max_depth=opt_params['xgbregressor__max_depth'], gamma=opt_params['xgbregressor__gamma'])\n",
    ")\n",
    "pipe_xgb_opt.fit(X_train,y_train)"
   ]
  },
  {
   "cell_type": "markdown",
   "id": "47cdd868",
   "metadata": {},
   "source": [
    "From the above cells, we have the best hyperparameters for XGBoost (max_depth and gamma). There are many other paramters that could be optimized, but the default values are typically acceptable. Even after hyperparameter optimization, we can see that the model score is still close to 0.95."
   ]
  },
  {
   "cell_type": "code",
   "execution_count": 75,
   "id": "8a15d568",
   "metadata": {},
   "outputs": [
    {
     "data": {
      "text/plain": [
       "0.9589154067873966"
      ]
     },
     "execution_count": 75,
     "metadata": {},
     "output_type": "execute_result"
    }
   ],
   "source": [
    "pipe_xgb_opt.score(X_test, y_test)"
   ]
  },
  {
   "cell_type": "markdown",
   "id": "485cd390",
   "metadata": {},
   "source": [
    "Testing with the test dataset shows that the model is applicable to unseen test dataset as well!"
   ]
  },
  {
   "cell_type": "markdown",
   "id": "28539349",
   "metadata": {},
   "source": [
    "### Feature Importance\n",
    "\n",
    "Let us take a look at what are important features"
   ]
  },
  {
   "cell_type": "code",
   "execution_count": 76,
   "id": "df1ae1b0-d606-44d1-904f-d758e2596e84",
   "metadata": {},
   "outputs": [
    {
     "data": {
      "image/png": "[encoded data removed]",
      "text/plain": [
       "<Figure size 1500x600 with 1 Axes>"
      ]
     },
     "metadata": {},
     "output_type": "display_data"
    }
   ],
   "source": [
    "# Feature Importance\n",
    "\n",
    "model = pipe_xgb_opt.named_steps['xgbregressor']\n",
    "col_names = pipe_xgb_opt[:-1].get_feature_names_out()\n",
    "feat_importance = model.feature_importances_\n",
    "\n",
    "# Combine feature names and importances\n",
    "features = list(zip(col_names, feat_importance))\n",
    "\n",
    "# Sort features by importance (descending order)\n",
    "features.sort(key=lambda x: x[1], reverse=True)\n",
    "\n",
    "# Extract sorted feature names and importances\n",
    "sorted_col_names, sorted_feat_importance = zip(*features)\n",
    "\n",
    "plt.figure(figsize=(15, 6))\n",
    "x = range(len(sorted_col_names))\n",
    "plt.bar(sorted_col_names, sorted_feat_importance, width=0.4, align='center', label='Feature Importance')\n",
    "plt.xlabel('Feature Names')\n",
    "plt.ylabel('Importance')\n",
    "plt.title('Feature Importance')\n",
    "plt.xticks(x, sorted_col_names, rotation=90)\n",
    "plt.show()"
   ]
  },
  {
   "cell_type": "markdown",
   "id": "33325d1b",
   "metadata": {},
   "source": [
    "Here, we can see that the features that are important are mostly categorical features. The most important seems to be the types of rooms, which makes sense as larger rooms fetch higher prices. The strongest numerical features are age of transaction, distance to mrt, and storey height. "
   ]
  },
  {
   "cell_type": "code",
   "execution_count": 77,
   "id": "9d17acd1-8f68-4769-93aa-382c437100b9",
   "metadata": {},
   "outputs": [],
   "source": [
    "# save the xgb model to disk\n",
    "import pickle\n",
    "filename = 'model/finalized_model.sav'\n",
    "pickle.dump(pipe_xgb_opt, open(filename, 'wb'))"
   ]
  },
  {
   "cell_type": "code",
   "execution_count": 78,
   "id": "094d7c0d-0b01-4cca-8503-a6958cc07386",
   "metadata": {},
   "outputs": [
    {
     "name": "stdout",
     "output_type": "stream",
     "text": [
      "loaded model\n"
     ]
    }
   ],
   "source": [
    "# To test if this saved model works\n",
    "\n",
    "import pickle\n",
    "import os\n",
    "\n",
    "filename = 'model/finalized_model.sav'\n",
    "\n",
    "# saving/loading data\n",
    "if os.path.exists(\"./model/finalized_model.sav\"):\n",
    "    model = pickle.load(open(filename, 'rb'))\n",
    "    print('loaded model')\n",
    "else:\n",
    "    pickle.dump(model, open(filename, 'wb'))"
   ]
  },
  {
   "cell_type": "code",
   "execution_count": 79,
   "id": "2b817ee3-2ca6-4b0f-b79f-0db73bc92b00",
   "metadata": {},
   "outputs": [
    {
     "data": {
      "text/plain": [
       "0.9589154067873966"
      ]
     },
     "execution_count": 79,
     "metadata": {},
     "output_type": "execute_result"
    }
   ],
   "source": [
    "#extract feature names#\n",
    "feature_names = model[:-1].get_feature_names_out()\n",
    "model.score(X_test, y_test)"
   ]
  },
  {
   "cell_type": "code",
   "execution_count": 80,
   "id": "318620f7-7d18-4db4-9ffe-4e2597cf4f8f",
   "metadata": {},
   "outputs": [
    {
     "data": {
      "text/plain": [
       "array([365896.16], dtype=float32)"
      ]
     },
     "execution_count": 80,
     "metadata": {},
     "output_type": "execute_result"
    }
   ],
   "source": [
    "model.predict(X_test.iloc[[622]])"
   ]
  },
  {
   "cell_type": "code",
   "execution_count": 81,
   "id": "8270fa20-8e0b-43f0-914d-ff0b7875c4c8",
   "metadata": {},
   "outputs": [
    {
     "data": {
      "text/plain": [
       "345942.2492401216"
      ]
     },
     "execution_count": 81,
     "metadata": {},
     "output_type": "execute_result"
    }
   ],
   "source": [
    "y_test.iloc[622]"
   ]
  }
 ],
 "metadata": {
  "kernelspec": {
   "display_name": "base",
   "language": "python",
   "name": "python3"
  },
  "language_info": {
   "codemirror_mode": {
    "name": "ipython",
    "version": 3
   },
   "file_extension": ".py",
   "mimetype": "text/x-python",
   "name": "python",
   "nbconvert_exporter": "python",
   "pygments_lexer": "ipython3",
   "version": "3.11.7"
  }
 },
 "nbformat": 4,
 "nbformat_minor": 5
}
