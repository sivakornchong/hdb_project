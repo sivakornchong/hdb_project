{
 "cells": [
  {
   "cell_type": "code",
   "execution_count": 1,
   "metadata": {},
   "outputs": [],
   "source": [
    "import json\n",
    "import requests\n",
    "import pandas as pd"
   ]
  },
  {
   "cell_type": "code",
   "execution_count": 2,
   "metadata": {},
   "outputs": [],
   "source": [
    "#Creating an empty dataframe to store\n",
    "alldata = pd.DataFrame()\n",
    "\n",
    "resource_id = \"f1765b54-a209-4718-8d38-a39237f502b3\"  # This resource ID is for 2017 onwards. \n",
    "url = \"https://data.gov.sg/api/action/datastore_search\"\n",
    "params = {'resource_id':resource_id, 'limit':10000}\n",
    "\n",
    "#Initial query to obtain the total number\n",
    "r = requests.get(url, params=params)\n",
    "data = json.loads(r.content)\n",
    "total = data['result']['total']"
   ]
  },
  {
   "cell_type": "code",
   "execution_count": 3,
   "metadata": {},
   "outputs": [
    {
     "name": "stdout",
     "output_type": "stream",
     "text": [
      "Retrieving approximately 0 records out of 165722.\n",
      "Retrieving approximately 10000 records out of 165722.\n",
      "Retrieving approximately 20000 records out of 165722.\n",
      "Retrieving approximately 30000 records out of 165722.\n",
      "Retrieving approximately 40000 records out of 165722.\n",
      "Retrieving approximately 50000 records out of 165722.\n",
      "Retrieving approximately 60000 records out of 165722.\n",
      "Retrieving approximately 70000 records out of 165722.\n",
      "Retrieving approximately 80000 records out of 165722.\n",
      "Retrieving approximately 90000 records out of 165722.\n",
      "Retrieving approximately 100000 records out of 165722.\n",
      "Retrieving approximately 110000 records out of 165722.\n",
      "Retrieving approximately 120000 records out of 165722.\n",
      "Retrieving approximately 130000 records out of 165722.\n",
      "Retrieving approximately 140000 records out of 165722.\n",
      "Retrieving approximately 150000 records out of 165722.\n",
      "Retrieving approximately 160000 records out of 165722.\n"
     ]
    }
   ],
   "source": [
    "# Looping through the pages to get all the contents\n",
    "# Looping is required since there is limit for each API call\n",
    "pages = total//10000\n",
    "for page in range(pages+1):\n",
    "    offset = page*10000\n",
    "    params = {'offset': offset, 'resource_id':resource_id, 'limit':10000}\n",
    "    print(\"Retrieving approximately {} records out of {}.\".format(offset,total))\n",
    "    r = requests.get(url, params=params)\n",
    "    data = json.loads(r.content)\n",
    "    df = pd.DataFrame(data['result']['records'])\n",
    "    alldata = pd.concat([alldata, df], axis=0)\n",
    "\n"
   ]
  },
  {
   "cell_type": "code",
   "execution_count": 4,
   "metadata": {},
   "outputs": [],
   "source": [
    "alldata = alldata.drop_duplicates()\n",
    "alldata.reset_index(inplace=True)"
   ]
  },
  {
   "cell_type": "code",
   "execution_count": 5,
   "metadata": {},
   "outputs": [
    {
     "name": "stdout",
     "output_type": "stream",
     "text": [
      "Export to .json completed, ready for dataframe manipulation\n"
     ]
    }
   ],
   "source": [
    "alldata.to_json('data/data_source_2023.json', orient='records', lines=True)\n",
    "print('Export to .json completed, ready for dataframe manipulation')"
   ]
  },
  {
   "cell_type": "code",
   "execution_count": null,
   "metadata": {},
   "outputs": [],
   "source": []
  },
  {
   "cell_type": "code",
   "execution_count": 1,
   "metadata": {},
   "outputs": [],
   "source": [
    "RPI_dict = {'4Q2023': 180.2, '3Q2023': 178.5, '2Q2023': 176.2,'1Q2023': 173.6,'4Q2022': 171.9,'3Q2022': 168.1,'2Q2022': 163.9, '1Q2022': 159.5, \n",
    "'4Q2021': 155.7, '3Q2021': 150.6, '2Q2021': 146.4, '1Q2021': 142.2, '4Q2020': 138.1, '3Q2020': 133.9, '2Q2020': 131.9, \n",
    "'1Q2020': 131.5, '4Q2019': 131.5, '3Q2019': 130.9, '2Q2019': 130.8, '1Q2019': 131, '4Q2018': 131.4, '3Q2018': 131.6, \n",
    "'2Q2018': 131.7, '1Q2018': 131.6, '4Q2017': 132.6, '3Q2017': 132.8, '2Q2017': 133.7, '1Q2017': 133.9}"
   ]
  },
  {
   "cell_type": "code",
   "execution_count": 11,
   "metadata": {},
   "outputs": [],
   "source": [
    "import pandas as pd"
   ]
  },
  {
   "cell_type": "code",
   "execution_count": 31,
   "metadata": {},
   "outputs": [],
   "source": [
    "pd.DataFrame.from_dict(data=RPI_dict, orient='index').to_csv('RPI_dict.csv', header=False)"
   ]
  },
  {
   "cell_type": "code",
   "execution_count": 32,
   "metadata": {},
   "outputs": [],
   "source": [
    "RPI = pd.read_csv('data/RPI_dict.csv', header=None)\n",
    "RPI_dict = dict(zip(RPI[0], RPI[1]))"
   ]
  },
  {
   "cell_type": "code",
   "execution_count": 28,
   "metadata": {},
   "outputs": [],
   "source": []
  },
  {
   "cell_type": "code",
   "execution_count": null,
   "metadata": {},
   "outputs": [],
   "source": []
  }
 ],
 "metadata": {
  "kernelspec": {
   "display_name": "Python 3 (ipykernel)",
   "language": "python",
   "name": "python3"
  },
  "language_info": {
   "codemirror_mode": {
    "name": "ipython",
    "version": 3
   },
   "file_extension": ".py",
   "mimetype": "text/x-python",
   "name": "python",
   "nbconvert_exporter": "python",
   "pygments_lexer": "ipython3",
   "version": "3.11.6"
  }
 },
 "nbformat": 4,
 "nbformat_minor": 4
}
